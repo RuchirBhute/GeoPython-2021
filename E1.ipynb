{
 "cells": [
  {
   "cell_type": "code",
   "execution_count": 1,
   "id": "19306101-4fca-4298-afa5-7a666e1fa743",
   "metadata": {},
   "outputs": [
    {
     "name": "stdin",
     "output_type": "stream",
     "text": [
      "What is your rating of Ice cream? 4\n",
      "How much do you enjoy sleeping? 4\n"
     ]
    }
   ],
   "source": [
    "ice_cream_rating = int(input('What is your rating of Ice cream?'))\n",
    "sleep_rating = int (input('How much do you enjoy sleeping?'))"
   ]
  },
  {
   "cell_type": "code",
   "execution_count": 4,
   "id": "c5acfa04-5fd8-409d-bf27-4d4288ad78d8",
   "metadata": {},
   "outputs": [
    {
     "name": "stdout",
     "output_type": "stream",
     "text": [
      "4 4\n"
     ]
    }
   ],
   "source": [
    "print (ice_cream_rating,sleep_rating)"
   ]
  },
  {
   "cell_type": "code",
   "execution_count": 5,
   "id": "6d036cfe-9fb2-477a-b86b-fd80b82a87d3",
   "metadata": {},
   "outputs": [
    {
     "name": "stdin",
     "output_type": "stream",
     "text": [
      "What is ur first name? gary\n",
      "What is ur last name? larry\n"
     ]
    }
   ],
   "source": [
    "fname = input('What is ur first name?')\n",
    "lname = input('What is ur last name?')"
   ]
  },
  {
   "cell_type": "code",
   "execution_count": 7,
   "id": "29f15fef-1d4a-47a2-acef-418a0d57b864",
   "metadata": {},
   "outputs": [
    {
     "name": "stdout",
     "output_type": "stream",
     "text": [
      "gary larry\n"
     ]
    }
   ],
   "source": [
    "myname = fname +' '+ lname\n",
    "print(myname)"
   ]
  },
  {
   "cell_type": "code",
   "execution_count": 14,
   "id": "03e2a51f-7bae-4f05-8dd1-d69c300b37fe",
   "metadata": {},
   "outputs": [
    {
     "name": "stdout",
     "output_type": "stream",
     "text": [
      "<class 'float'> <class 'int'> <class 'int'>\n"
     ]
    }
   ],
   "source": [
    "happiness_rating = (ice_cream_rating+sleep_rating)/2\n",
    "print(type(happiness_rating), type(ice_cream_rating), type(sleep_rating))"
   ]
  },
  {
   "cell_type": "code",
   "execution_count": null,
   "id": "14f5c8bc-07a8-49c9-8e6f-5e6386ae804d",
   "metadata": {},
   "outputs": [],
   "source": []
  },
  {
   "cell_type": "code",
   "execution_count": 20,
   "id": "8e723115-5890-4c05-aa07-7c6270333eb4",
   "metadata": {},
   "outputs": [
    {
     "name": "stdout",
     "output_type": "stream",
     "text": [
      "My name is  gary  and I give eating Ice-Cream a score of  4  out of 10!\n",
      "I am  gary larry  and my sleeping enjoyment rating is  4 /10!\n",
      "Based on the factors above, my happiness rating is  4.0  out of 10 or  40.0 %\n"
     ]
    }
   ],
   "source": [
    "print('My name is ', fname, ' and I give eating Ice-Cream a score of ', ice_cream_rating, ' out of 10!\\nI am ', myname, ' and my sleeping enjoyment rating is ', sleep_rating, '/10!\\nBased on the factors above, my happiness rating is ', happiness_rating, ' out of 10 or ', happiness_rating*10, '%')\n",
    "      "
   ]
  },
  {
   "cell_type": "code",
   "execution_count": null,
   "id": "c0f1c3d6-7628-42fb-83bd-68bb527dbd5f",
   "metadata": {},
   "outputs": [],
   "source": []
  }
 ],
 "metadata": {
  "kernelspec": {
   "display_name": "Python 3",
   "language": "python",
   "name": "python3"
  },
  "language_info": {
   "codemirror_mode": {
    "name": "ipython",
    "version": 3
   },
   "file_extension": ".py",
   "mimetype": "text/x-python",
   "name": "python",
   "nbconvert_exporter": "python",
   "pygments_lexer": "ipython3",
   "version": "3.8.8"
  }
 },
 "nbformat": 4,
 "nbformat_minor": 5
}
